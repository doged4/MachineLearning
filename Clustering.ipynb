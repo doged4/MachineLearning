{
 "cells": [
  {
   "cell_type": "code",
   "execution_count": 1,
   "metadata": {},
   "outputs": [],
   "source": [
    "import numpy as np\n",
    "import pandas as pd\n",
    "import csv\n",
    "import matplotlib\n",
    "from matplotlib import pyplot"
   ]
  },
  {
   "cell_type": "code",
   "execution_count": 2,
   "metadata": {},
   "outputs": [],
   "source": [
    "import numpy as np\n",
    "import pandas as pd\n",
    "import csv\n",
    "from matplotlib import pyplot"
   ]
  },
  {
   "cell_type": "code",
   "execution_count": 3,
   "metadata": {},
   "outputs": [],
   "source": [
    "maindata = pd.read_csv('/Users/cevbain/Downloads/aff_download/ACS_17_1YR_S0802_with_ann.csv', sep=',', encoding = \"latin1\")"
   ]
  },
  {
   "cell_type": "code",
   "execution_count": null,
   "metadata": {},
   "outputs": [],
   "source": []
  },
  {
   "cell_type": "code",
   "execution_count": 4,
   "metadata": {},
   "outputs": [
    {
     "ename": "NameError",
     "evalue": "name 'data' is not defined",
     "output_type": "error",
     "traceback": [
      "\u001b[0;31m---------------------------------------------------------------------------\u001b[0m",
      "\u001b[0;31mNameError\u001b[0m                                 Traceback (most recent call last)",
      "\u001b[0;32m<ipython-input-4-5f6a64641cf6>\u001b[0m in \u001b[0;36m<module>\u001b[0;34m\u001b[0m\n\u001b[1;32m      1\u001b[0m \u001b[0;31m#maindata.insert()\u001b[0m\u001b[0;34m\u001b[0m\u001b[0;34m\u001b[0m\u001b[0m\n\u001b[0;32m----> 2\u001b[0;31m \u001b[0mdata\u001b[0m\u001b[0;34m\u001b[0m\u001b[0m\n\u001b[0m",
      "\u001b[0;31mNameError\u001b[0m: name 'data' is not defined"
     ]
    }
   ],
   "source": [
    "#maindata.insert()\n",
    "data "
   ]
  },
  {
   "cell_type": "code",
   "execution_count": 5,
   "metadata": {},
   "outputs": [],
   "source": [
    "data = np.random.normal(0,.5,(50,2))"
   ]
  },
  {
   "cell_type": "code",
   "execution_count": 6,
   "metadata": {},
   "outputs": [
    {
     "data": {
      "text/plain": [
       "array([[ 1.08120273, -0.2186033 ],\n",
       "       [ 0.44246744,  1.36335274],\n",
       "       [-0.21436821, -0.25007511],\n",
       "       [ 0.28325678,  0.06091667],\n",
       "       [-0.07537981,  0.23828879],\n",
       "       [ 0.29227389, -0.23426471],\n",
       "       [-0.60867423, -0.20859829],\n",
       "       [-1.17823143,  0.65144146],\n",
       "       [ 0.2864004 ,  0.28548827],\n",
       "       [-0.27974804,  0.05622047],\n",
       "       [ 0.57332235, -0.08824748],\n",
       "       [ 0.47783409, -0.34661616],\n",
       "       [-0.21340548, -1.31497904],\n",
       "       [ 0.55736498,  0.18579304],\n",
       "       [-0.48934453,  0.0538013 ],\n",
       "       [-0.13220869, -0.3266445 ],\n",
       "       [ 0.19074271, -0.78249617],\n",
       "       [ 0.2598624 , -0.44984667],\n",
       "       [-0.07829844, -0.16001849],\n",
       "       [ 0.37039192, -0.10285507],\n",
       "       [-0.69244343, -0.53413985],\n",
       "       [-1.07077572, -0.37859345],\n",
       "       [ 0.09842063,  0.72358441],\n",
       "       [-0.00959512,  0.81876127],\n",
       "       [ 0.89947321,  0.04275256],\n",
       "       [-0.49839327, -0.19681856],\n",
       "       [ 0.43975505, -0.64778737],\n",
       "       [ 0.6192196 , -0.09884223],\n",
       "       [-0.54459213,  0.51566303],\n",
       "       [-0.61001785,  0.18303335],\n",
       "       [-0.13753102,  0.03879189],\n",
       "       [ 0.1826542 , -0.12111754],\n",
       "       [ 0.17439924,  0.03888895],\n",
       "       [-0.80044862, -0.64575575],\n",
       "       [-0.55764172, -0.42425333],\n",
       "       [-0.04861983, -0.05149334],\n",
       "       [-0.74944164,  0.12923918],\n",
       "       [-0.4267366 ,  0.39601893],\n",
       "       [-0.57993443,  0.56743392],\n",
       "       [ 0.08995675, -0.64578255],\n",
       "       [-0.40645509,  0.33579565],\n",
       "       [-0.1652768 , -0.11181607],\n",
       "       [ 0.13920596, -0.65181876],\n",
       "       [ 0.26129237,  0.88702316],\n",
       "       [ 0.25354174, -0.32689072],\n",
       "       [-0.17995661, -0.82294685],\n",
       "       [ 0.77001203, -0.10681484],\n",
       "       [ 0.28662169, -0.1768749 ],\n",
       "       [ 1.06564652, -1.20109126],\n",
       "       [ 0.43276201,  0.3486938 ]])"
      ]
     },
     "execution_count": 6,
     "metadata": {},
     "output_type": "execute_result"
    }
   ],
   "source": [
    "data"
   ]
  },
  {
   "cell_type": "code",
   "execution_count": 13,
   "metadata": {},
   "outputs": [
    {
     "data": {
      "text/plain": [
       "array([[5., 5.],\n",
       "       [5., 5.],\n",
       "       [5., 5.],\n",
       "       [5., 5.],\n",
       "       [5., 5.],\n",
       "       [5., 5.],\n",
       "       [5., 5.],\n",
       "       [5., 5.],\n",
       "       [5., 5.],\n",
       "       [5., 5.],\n",
       "       [5., 5.],\n",
       "       [5., 5.],\n",
       "       [5., 5.],\n",
       "       [5., 5.],\n",
       "       [5., 5.],\n",
       "       [5., 5.],\n",
       "       [5., 5.],\n",
       "       [5., 5.],\n",
       "       [5., 5.],\n",
       "       [5., 5.],\n",
       "       [5., 5.],\n",
       "       [5., 5.],\n",
       "       [5., 5.],\n",
       "       [5., 5.],\n",
       "       [5., 5.],\n",
       "       [5., 5.],\n",
       "       [5., 5.],\n",
       "       [5., 5.],\n",
       "       [5., 5.],\n",
       "       [5., 5.],\n",
       "       [5., 5.],\n",
       "       [5., 5.],\n",
       "       [5., 5.],\n",
       "       [5., 5.],\n",
       "       [5., 5.],\n",
       "       [5., 5.],\n",
       "       [5., 5.],\n",
       "       [5., 5.],\n",
       "       [5., 5.],\n",
       "       [5., 5.],\n",
       "       [5., 5.],\n",
       "       [5., 5.],\n",
       "       [5., 5.],\n",
       "       [5., 5.],\n",
       "       [5., 5.],\n",
       "       [5., 5.],\n",
       "       [5., 5.],\n",
       "       [5., 5.],\n",
       "       [5., 5.],\n",
       "       [5., 5.]])"
      ]
     },
     "execution_count": 13,
     "metadata": {},
     "output_type": "execute_result"
    }
   ],
   "source": [
    "data[1:8,1]\n",
    "data5 = [[1,1],[1,1],[1,1],[1,1],[1,1],[1,1],[1,1],[1,1],[1,1],[1,1],[1,1],[1,1],[1,1],[1,1],[1,1],[1,1],[1,1],[1,1],[1,1],[1,1],[1,1],[1,1],[1,1],[1,1],[1,1],[1,1],[1,1],[1,1],[1,1],[1,1],[1,1],[1,1],[1,1],[1,1],[1,1],[1,1],[1,1],[1,1],[1,1],[1,1],[1,1],[1,1],[1,1],[1,1],[1,1],[1,1],[1,1],[1,1],[1,1],[1,1]]\n",
    "data5\n",
    "data5 = np.ones((50,2))\n",
    "data5*5"
   ]
  },
  {
   "cell_type": "code",
   "execution_count": 25,
   "metadata": {},
   "outputs": [],
   "source": [
    "def makeClusters (valueArray, perCluster, dimensions):\n",
    "\n",
    "    data5 = np.random.normal(0, 1 ,(dimensions))\n",
    "  #  data5 = np.ones((80,2))\n",
    "    data1 = data5\n",
    "    for j in range(0,2):\n",
    "        for i in range(0,len(valueArray[1])):\n",
    "            #print((i*perCluster), ((i+1)*perCluster),1)\n",
    "            data1[(i*perCluster):((i+1)*perCluster),j] = data5[(i*perCluster):((i+1)*perCluster),j] * valueArray[(0+2*j),i]\n",
    "         #   print(data1)\n",
    "            data1[(i*perCluster):((i+1)*perCluster),j] = data1[(i*perCluster):((i+1)*perCluster),j] + valueArray[(1+2*j),i]\n",
    "         #   print(data1)\n",
    "    return data1"
   ]
  },
  {
   "cell_type": "code",
   "execution_count": 26,
   "metadata": {},
   "outputs": [
    {
     "name": "stdout",
     "output_type": "stream",
     "text": [
      "<class 'numpy.ndarray'>\n",
      "[[ 15.00126363   6.00506413]\n",
      " [ 15.0040462    5.99510206]\n",
      " [ 15.00215712   6.00330203]\n",
      " [ 14.99592035   6.00136231]\n",
      " [ 15.00158132   5.99515709]\n",
      " [ 14.99638307   5.9933669 ]\n",
      " [ 14.99997847   5.99996239]\n",
      " [ 14.99274697   5.99629536]\n",
      " [ 15.0044084    5.9978064 ]\n",
      " [ 15.00809044   5.99147977]\n",
      " [ 14.99092844   6.00164753]\n",
      " [ 14.9938749    6.00360531]\n",
      " [ 15.00279064   6.00368093]\n",
      " [ 15.00531527   6.00227839]\n",
      " [ 15.00314228   6.00470828]\n",
      " [ 14.99796234   6.00222363]\n",
      " [ 14.99628421   5.997899  ]\n",
      " [ 15.01026095   6.0026149 ]\n",
      " [ 14.99133879   6.00469052]\n",
      " [ 14.99999642   5.99982062]\n",
      " [ 14.99998558   5.99423325]\n",
      " [ 14.99338025   6.00240572]\n",
      " [ 14.99627999   5.99929367]\n",
      " [ 14.99765532   6.01287511]\n",
      " [ 14.99313129   6.00341997]\n",
      " [ 15.00505825   6.00291355]\n",
      " [ 14.99839723   6.00123223]\n",
      " [ 14.99064254   5.99589621]\n",
      " [ 15.00247231   5.99455846]\n",
      " [ 15.00103628   5.99513858]\n",
      " [ 14.99551329   6.00804797]\n",
      " [ 15.0000498    5.99700178]\n",
      " [ 14.99997808   6.00168697]\n",
      " [ 14.99799831   6.00151023]\n",
      " [ 15.00316346   5.99560433]\n",
      " [ 15.00128166   5.9996954 ]\n",
      " [ 15.00584026   5.99255194]\n",
      " [ 15.00043648   6.00243924]\n",
      " [ 14.99687219   5.99835686]\n",
      " [ 15.00349886   5.99996783]\n",
      " [ 14.99613656   5.99549385]\n",
      " [ 15.00420906   6.00342244]\n",
      " [ 14.9960158    6.00187408]\n",
      " [ 15.00069151   6.00249289]\n",
      " [ 14.98987912   6.00010849]\n",
      " [ 15.00127349   6.00441854]\n",
      " [ 15.00496654   6.0064413 ]\n",
      " [ 15.00829262   5.99377996]\n",
      " [ 14.99453363   5.99374045]\n",
      " [ 15.00633593   5.99749889]\n",
      " [-20.00490111   1.00634253]\n",
      " [-19.99273693   0.99707495]\n",
      " [-20.00260558   1.00921693]\n",
      " [-19.99620515   0.99532231]\n",
      " [-20.00258165   1.00138767]\n",
      " [-20.00837637   0.99808797]\n",
      " [-20.00640752   0.99559273]\n",
      " [-20.00234691   0.98387161]\n",
      " [-19.9938162    0.99541903]\n",
      " [-20.00158514   0.99666735]\n",
      " [-19.99819735   0.99950833]\n",
      " [-19.99231081   1.00253202]\n",
      " [-20.00210291   1.0017004 ]\n",
      " [-20.00124363   1.00583526]\n",
      " [-20.00787302   0.998133  ]\n",
      " [-19.99985456   1.00891668]\n",
      " [-20.0051923    0.99966138]\n",
      " [-20.00559311   1.00616498]\n",
      " [-19.99482198   1.0083732 ]\n",
      " [-20.00061534   0.99738774]\n",
      " [-20.00405184   1.00100658]\n",
      " [-20.00358808   0.99715693]\n",
      " [-19.99256925   1.00465242]\n",
      " [-19.99854697   1.00625308]\n",
      " [-19.99963731   0.99817853]\n",
      " [-19.99567324   1.00126004]\n",
      " [-20.00440972   0.99374373]\n",
      " [-19.99929546   0.98891125]\n",
      " [-20.00017921   1.00490085]\n",
      " [-19.99797393   0.99411661]\n",
      " [-19.99686482   1.00580109]\n",
      " [-19.99320274   0.99846514]\n",
      " [-19.98902939   1.00582955]\n",
      " [-19.99290554   0.99675224]\n",
      " [-19.99827745   1.00902225]\n",
      " [-20.00169038   0.99742444]\n",
      " [-20.00709095   0.99658674]\n",
      " [-19.99517371   0.99697893]\n",
      " [-20.00301049   1.00834151]\n",
      " [-20.00567114   0.99694722]\n",
      " [-19.99739645   0.99678536]\n",
      " [-19.99749368   1.00353274]\n",
      " [-20.00246851   1.00136666]\n",
      " [-19.99925798   0.99864582]\n",
      " [-19.98905468   1.00146356]\n",
      " [-19.9936057    1.00372646]\n",
      " [-19.99819755   0.99285833]\n",
      " [-19.99728519   0.99764791]\n",
      " [-19.99947267   1.00025268]\n",
      " [-20.00378573   1.00060424]\n",
      " [  2.99167536 -40.00023227]\n",
      " [  3.0077359  -39.99140825]\n",
      " [  2.99850523 -40.0006248 ]\n",
      " [  3.00930538 -39.99885497]\n",
      " [  2.99923399 -40.01022331]\n",
      " [  3.00683295 -39.99468219]\n",
      " [  3.00263102 -39.99772581]\n",
      " [  3.00082519 -39.99614527]\n",
      " [  3.00412944 -39.99085993]\n",
      " [  2.99870883 -40.00195577]\n",
      " [  3.00110221 -39.99688444]\n",
      " [  3.01266017 -40.00072455]\n",
      " [  3.00118326 -40.00492846]\n",
      " [  3.0133923  -39.99734278]\n",
      " [  2.9967011  -39.99418808]\n",
      " [  2.99732978 -39.99555551]\n",
      " [  3.0041032  -40.00322817]\n",
      " [  2.99900923 -39.99816344]\n",
      " [  3.00236823 -40.00386811]\n",
      " [  2.99857834 -40.00134944]\n",
      " [  2.99386426 -40.00039971]\n",
      " [  2.9951335  -39.99738744]\n",
      " [  2.99776225 -40.00870312]\n",
      " [  3.00066229 -39.99694088]\n",
      " [  3.00730384 -40.00573246]\n",
      " [  3.00306053 -39.99918822]\n",
      " [  3.00492094 -39.99688842]\n",
      " [  3.0032124  -39.99845893]\n",
      " [  3.00109956 -39.99851052]\n",
      " [  2.99724696 -40.00667889]\n",
      " [  2.99771194 -39.99898407]\n",
      " [  2.99977978 -39.99964178]\n",
      " [  3.00063071 -40.0048769 ]\n",
      " [  3.00557292 -39.99106198]\n",
      " [  3.00494842 -40.00110213]\n",
      " [  2.99740964 -40.01424533]\n",
      " [  2.99936164 -39.99129851]\n",
      " [  3.00340573 -40.00887237]\n",
      " [  3.00220038 -39.99543666]\n",
      " [  2.99353981 -40.00086545]\n",
      " [  3.00008283 -39.99633861]\n",
      " [  3.00146378 -39.99335838]\n",
      " [  2.99180592 -39.99918125]\n",
      " [  3.00839374 -40.00463479]\n",
      " [  2.99603882 -40.00137304]\n",
      " [  2.99832066 -39.99706   ]\n",
      " [  3.00034162 -39.99511364]\n",
      " [  3.00131207 -40.00524395]\n",
      " [  3.0027825  -39.99583877]\n",
      " [  2.99976524 -39.99603122]\n",
      " [  3.9910717   15.00137546]\n",
      " [  4.00281463  15.00120136]\n",
      " [  4.00515622  14.98945472]\n",
      " [  3.99685532  14.99562796]\n",
      " [  3.99701467  14.98906346]\n",
      " [  4.00035473  15.0032843 ]\n",
      " [  4.01103549  14.99868252]\n",
      " [  4.00122443  14.99747618]\n",
      " [  3.99719141  14.99974335]\n",
      " [  4.00166939  14.99843322]\n",
      " [  3.9950099   15.00099765]\n",
      " [  3.99942259  15.0068804 ]\n",
      " [  4.0052158   15.00822878]\n",
      " [  4.00508957  14.99509183]\n",
      " [  4.00487405  14.99736507]\n",
      " [  4.00629481  14.99816646]\n",
      " [  3.99846197  14.99427236]\n",
      " [  4.0040302   14.99696606]\n",
      " [  3.99892544  15.00304525]\n",
      " [  4.00183525  15.00369238]\n",
      " [  3.99838699  15.00471276]\n",
      " [  3.98870016  14.99945823]\n",
      " [  3.99543455  15.00174158]\n",
      " [  4.00099216  14.99821885]\n",
      " [  4.00228227  15.00151248]\n",
      " [  3.9974303   14.99009521]\n",
      " [  3.99862967  15.00240959]\n",
      " [  3.99562134  14.9887615 ]\n",
      " [  4.00193303  14.99484685]\n",
      " [  3.9981522   15.00523057]\n",
      " [  4.00142695  14.99717966]\n",
      " [  4.00396452  15.00282249]\n",
      " [  3.99631028  15.00673797]\n",
      " [  4.00621967  15.01327156]\n",
      " [  3.99853848  14.99010712]\n",
      " [  3.9971984   15.00431458]\n",
      " [  4.00389283  15.00165761]\n",
      " [  3.99504927  15.00577432]\n",
      " [  3.99789898  14.99711444]\n",
      " [  4.00466609  15.00689968]\n",
      " [  3.98858687  14.99933949]\n",
      " [  4.00521526  15.00277471]\n",
      " [  4.00292643  15.00379452]\n",
      " [  4.00101074  14.99417318]\n",
      " [  4.00721359  15.00419701]\n",
      " [  4.00343406  15.00275935]\n",
      " [  4.00259213  15.00193879]\n",
      " [  3.99903947  14.99901734]\n",
      " [  4.00156872  15.00290221]\n",
      " [  3.99673475  15.01512063]]\n"
     ]
    },
    {
     "data": {
      "image/png": "[encoded data removed]",
      "text/plain": [
       "<Figure size 432x288 with 1 Axes>"
      ]
     },
     "metadata": {
      "needs_background": "light"
     },
     "output_type": "display_data"
    }
   ],
   "source": [
    "data6 = makeClusters(np.array([[.5,.5,.5,.5],[5,2,3,4],[.5,.5,.5,.5],[6,1,4,1]]), 200, (800,2))\n",
    "print(type(data6)) \n",
    "matplotlib.pyplot.scatter(data6[:,0],data6[:,1])\n",
    "\n",
    "print(makeClusters(np.array([[.005,.005,.005,.005],[15,-20,3,4],[.005,.005,.005,.005],[6,1,-40,15]]), 50, (200,2)))"
   ]
  },
  {
   "cell_type": "code",
   "execution_count": 10,
   "metadata": {},
   "outputs": [
    {
     "data": {
      "text/plain": [
       "range(0, 1)"
      ]
     },
     "execution_count": 10,
     "metadata": {},
     "output_type": "execute_result"
    }
   ],
   "source": [
    "np.array([[1,1,2,3],[5,2,3,4]])[1,2]\n",
    "len(np.array([[1,1,2,3],[5,2,3,4]])[1])\n",
    "range(0,1)"
   ]
  },
  {
   "cell_type": "code",
   "execution_count": 11,
   "metadata": {},
   "outputs": [
    {
     "data": {
      "text/plain": [
       "numpy.ndarray"
      ]
     },
     "execution_count": 11,
     "metadata": {},
     "output_type": "execute_result"
    }
   ],
   "source": [
    "type(np.random.normal(0, 1 ,(50,2)))"
   ]
  },
  {
   "cell_type": "code",
   "execution_count": 12,
   "metadata": {},
   "outputs": [
    {
     "data": {
      "text/plain": [
       "<matplotlib.collections.PathCollection at 0x11836b940>"
      ]
     },
     "execution_count": 12,
     "metadata": {},
     "output_type": "execute_result"
    },
    {
     "data": {
      "image/png": "[encoded data removed]",
      "text/plain": [
       "<Figure size 432x288 with 1 Axes>"
      ]
     },
     "metadata": {
      "needs_background": "light"
     },
     "output_type": "display_data"
    }
   ],
   "source": [
    "data1 = np.random.normal(0,.5,(500,2))\n",
    "matplotlib.pyplot.scatter(data1[:,0],data1[:,1])"
   ]
  },
  {
   "cell_type": "code",
   "execution_count": 48,
   "metadata": {},
   "outputs": [],
   "source": [
    "data[:,1] = data[:,1] + 5"
   ]
  },
  {
   "cell_type": "code",
   "execution_count": 49,
   "metadata": {},
   "outputs": [
    {
     "data": {
      "text/plain": [
       "<matplotlib.collections.PathCollection at 0x1169f7978>"
      ]
     },
     "execution_count": 49,
     "metadata": {},
     "output_type": "execute_result"
    },
    {
     "data": {
      "image/png": "[encoded data removed]",
      "text/plain": [
       "<Figure size 432x288 with 1 Axes>"
      ]
     },
     "metadata": {
      "needs_background": "light"
     },
     "output_type": "display_data"
    }
   ],
   "source": [
    "data2 = np.random.normal(0,.5,(500,2))\n",
    "matplotlib.pyplot.scatter(data2[:,0],data2[:,1])"
   ]
  },
  {
   "cell_type": "code",
   "execution_count": 54,
   "metadata": {},
   "outputs": [
    {
     "ename": "IndexError",
     "evalue": "index 500 is out of bounds for axis 0 with size 500",
     "output_type": "error",
     "traceback": [
      "\u001b[0;31m---------------------------------------------------------------------------\u001b[0m",
      "\u001b[0;31mIndexError\u001b[0m                                Traceback (most recent call last)",
      "\u001b[0;32m<ipython-input-54-7ef77d91c6ae>\u001b[0m in \u001b[0;36m<module>\u001b[0;34m\u001b[0m\n\u001b[1;32m      1\u001b[0m \u001b[0;32mfor\u001b[0m \u001b[0mi\u001b[0m \u001b[0;32min\u001b[0m \u001b[0mrange\u001b[0m \u001b[0;34m(\u001b[0m\u001b[0mlen\u001b[0m\u001b[0;34m(\u001b[0m\u001b[0mdata1\u001b[0m\u001b[0;34m)\u001b[0m\u001b[0;34m)\u001b[0m\u001b[0;34m:\u001b[0m\u001b[0;34m\u001b[0m\u001b[0m\n\u001b[0;32m----> 2\u001b[0;31m     \u001b[0mdata1\u001b[0m\u001b[0;34m[\u001b[0m\u001b[0mi\u001b[0m\u001b[0;34m+\u001b[0m\u001b[0;36m500\u001b[0m\u001b[0;34m]\u001b[0m \u001b[0;34m=\u001b[0m  \u001b[0mdata2\u001b[0m\u001b[0;34m\u001b[0m\u001b[0m\n\u001b[0m",
      "\u001b[0;31mIndexError\u001b[0m: index 500 is out of bounds for axis 0 with size 500"
     ]
    }
   ],
   "source": [
    "for i in range (len(data1)):\n",
    "    data1[i+500] =  data2"
   ]
  },
  {
   "cell_type": "code",
   "execution_count": null,
   "metadata": {},
   "outputs": [],
   "source": [
    "def dbscan(data, arrayIn, minDist):\n",
    "    zeros\n",
    "    for i in data[:,0]:\n",
    "        if i <= (arrayIn[1,0] + minDist) and i >= (arrayIn[1,0] - minDist):\n",
    "            \n",
    "            "
   ]
  },
  {
   "cell_type": "code",
   "execution_count": 27,
   "metadata": {},
   "outputs": [
    {
     "ename": "NameError",
     "evalue": "name 'zeroes' is not defined",
     "output_type": "error",
     "traceback": [
      "\u001b[0;31m---------------------------------------------------------------------------\u001b[0m",
      "\u001b[0;31mNameError\u001b[0m                                 Traceback (most recent call last)",
      "\u001b[0;32m<ipython-input-27-ff37f3834529>\u001b[0m in \u001b[0;36m<module>\u001b[0;34m\u001b[0m\n\u001b[0;32m----> 1\u001b[0;31m \u001b[0mzeroes\u001b[0m\u001b[0;34m(\u001b[0m\u001b[0;34m(\u001b[0m\u001b[0;36m50\u001b[0m\u001b[0;34m,\u001b[0m\u001b[0;36m2\u001b[0m\u001b[0;34m)\u001b[0m\u001b[0;34m)\u001b[0m\u001b[0;34m\u001b[0m\u001b[0m\n\u001b[0m",
      "\u001b[0;31mNameError\u001b[0m: name 'zeroes' is not defined"
     ]
    }
   ],
   "source": [
    "zeroes((50,2))"
   ]
  },
  {
   "cell_type": "code",
   "execution_count": 46,
   "metadata": {},
   "outputs": [
    {
     "data": {
      "text/plain": [
       "<matplotlib.collections.PathCollection at 0x1148445c0>"
      ]
     },
     "execution_count": 46,
     "metadata": {},
     "output_type": "execute_result"
    },
    {
     "data": {
      "image/png": "[encoded data removed]",
      "text/plain": [
       "<Figure size 432x288 with 1 Axes>"
      ]
     },
     "metadata": {
      "needs_background": "light"
     },
     "output_type": "display_data"
    }
   ],
   "source": [
    "matplotlib.pyplot.scatter(data[:,0],data[:,1])"
   ]
  },
  {
   "cell_type": "code",
   "execution_count": 33,
   "metadata": {},
   "outputs": [
    {
     "data": {
      "text/plain": [
       "<matplotlib.collections.PathCollection at 0x1129a7278>"
      ]
     },
     "execution_count": 33,
     "metadata": {},
     "output_type": "execute_result"
    },
    {
     "data": {
      "image/png": "[encoded data removed]",
      "text/plain": [
       "<Figure size 432x288 with 1 Axes>"
      ]
     },
     "metadata": {
      "needs_background": "light"
     },
     "output_type": "display_data"
    }
   ],
   "source": [
    "matplotlib.pyplot.scatter(data[:,0],data[:,1])"
   ]
  },
  {
   "cell_type": "code",
   "execution_count": 34,
   "metadata": {},
   "outputs": [
    {
     "data": {
      "text/plain": [
       "<matplotlib.collections.PathCollection at 0x112aacba8>"
      ]
     },
     "execution_count": 34,
     "metadata": {},
     "output_type": "execute_result"
    },
    {
     "data": {
      "image/png": "[encoded data removed]",
      "text/plain": [
       "<Figure size 432x288 with 1 Axes>"
      ]
     },
     "metadata": {
      "needs_background": "light"
     },
     "output_type": "display_data"
    }
   ],
   "source": [
    "matplotlib.pyplot.scatter(data[:,0],data[:,1])"
   ]
  },
  {
   "cell_type": "code",
   "execution_count": null,
   "metadata": {},
   "outputs": [],
   "source": []
  },
  {
   "cell_type": "code",
   "execution_count": null,
   "metadata": {},
   "outputs": [],
   "source": []
  }
 ],
 "metadata": {
  "kernelspec": {
   "display_name": "Python 3",
   "language": "python",
   "name": "python3"
  },
  "language_info": {
   "codemirror_mode": {
    "name": "ipython",
    "version": 3
   },
   "file_extension": ".py",
   "mimetype": "text/x-python",
   "name": "python",
   "nbconvert_exporter": "python",
   "pygments_lexer": "ipython3",
   "version": "3.7.0"
  }
 },
 "nbformat": 4,
 "nbformat_minor": 2
}
