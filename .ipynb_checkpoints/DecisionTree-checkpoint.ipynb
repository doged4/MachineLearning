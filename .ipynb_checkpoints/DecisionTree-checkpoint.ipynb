{
 "cells": [
  {
   "cell_type": "markdown",
   "metadata": {},
   "source": [
    "# Decision Tree with the Iris Dataset\n",
    "\n",
    "For an explanation of decision trees, see [our course notes](https://jennselby.github.io/MachineLearningCourseNotes/#decision-trees).\n",
    "\n",
    "This notebook uses example code from http://scikit-learn.org/stable/modules/tree.html."
   ]
  },
  {
   "cell_type": "markdown",
   "metadata": {},
   "source": [
    "## Setup\n",
    "\n",
    "Before you can run this code, you will need to install some extra software.\n",
    "\n",
    "1. Install homebrew (if you don't already have it) following the [directions on their site](https://brew.sh/).\n",
    "1. Install the graphviz library that will let us visualize the decision tree. In Terminal, run\n",
    ">`brew install graphviz`\n",
    "1. Install the pydot library that allows you to call graphviz from Python. In Terminal run\n",
    ">`pip3 install pydot`."
   ]
  },
  {
   "cell_type": "code",
   "execution_count": 3,
   "metadata": {},
   "outputs": [
    {
     "name": "stderr",
     "output_type": "stream",
     "text": [
      "/Library/Frameworks/Python.framework/Versions/3.7/lib/python3.7/site-packages/sklearn/ensemble/weight_boosting.py:29: DeprecationWarning: numpy.core.umath_tests is an internal NumPy module and should not be imported. It will be removed in a future NumPy release.\n",
      "  from numpy.core.umath_tests import inner1d\n"
     ]
    },
    {
     "data": {
      "text/plain": [
       "dict_keys(['data', 'target', 'target_names', 'DESCR', 'feature_names'])"
      ]
     },
     "execution_count": 3,
     "metadata": {},
     "output_type": "execute_result"
    }
   ],
   "source": [
    "from sklearn.datasets import load_iris # the iris dataset is included in scikit-learn\n",
    "from sklearn import tree # for fitting our model\n",
    "from sklearn.ensemble import RandomForestClassifier\n",
    "import numpy\n",
    "from numpy import random\n",
    "import random\n",
    "\n",
    "# these are all needed for the particular visualization we're doing\n",
    "from sklearn.externals.six import StringIO\n",
    "import pydot\n",
    "import os.path\n",
    "\n",
    "# to display graphs in this notebook\n",
    "%matplotlib inline\n",
    "import matplotlib.pyplot\n",
    "\n",
    "iris = load_iris()\n",
    "iris.keys()"
   ]
  },
  {
   "cell_type": "markdown",
   "metadata": {},
   "source": [
    "## Iris Dataset\n",
    "\n",
    "Before you go on, make sure you understand this dataset. Modify the cell below to examine different parts of the dataset that are contained in the 'iris' dictionary object.\n",
    "\n",
    "What are the features? What are we trying to classify?"
   ]
  },
  {
   "cell_type": "code",
   "execution_count": 4,
   "metadata": {},
   "outputs": [
    {
     "data": {
      "text/plain": [
       "dict_keys(['data', 'target', 'target_names', 'DESCR', 'feature_names'])"
      ]
     },
     "execution_count": 4,
     "metadata": {},
     "output_type": "execute_result"
    }
   ],
   "source": [
    "iris = load_iris()\n",
    "iris.keys()"
   ]
  },
  {
   "cell_type": "markdown",
   "metadata": {},
   "source": [
    "## Plotting\n",
    "\n",
    "Let's visualize our dataset, so that we can better understand what it looks like.\n",
    "\n",
    "Change the first two variables to change which features you are looking at."
   ]
  },
  {
   "cell_type": "code",
   "execution_count": 4,
   "metadata": {},
   "outputs": [
    {
     "data": {
      "image/png": "[encoded data removed]",
      "text/plain": [
       "<Figure size 432x288 with 1 Axes>"
      ]
     },
     "metadata": {},
     "output_type": "display_data"
    }
   ],
   "source": [
    "# Plot two of the features (the first and fourth columns, in this case)\n",
    "x1_feature = 0\n",
    "x2_feature = 3\n",
    "\n",
    "x1 = iris.data[:,x1_feature]\n",
    "x2 = iris.data[:,x2_feature]\n",
    "\n",
    "# The data are in order by type. Find out where the other types start\n",
    "start_type_one = list(iris.target).index(1)\n",
    "start_type_two = list(iris.target).index(2)\n",
    "\n",
    "# create a figure and label it\n",
    "fig = matplotlib.pyplot.figure()\n",
    "fig.suptitle('Two Features of the Iris Data Set')\n",
    "matplotlib.pyplot.xlabel(iris.feature_names[x1_feature])\n",
    "matplotlib.pyplot.ylabel(iris.feature_names[x2_feature])\n",
    "\n",
    "# put the input data on the graph, with different colors and shapes for each type\n",
    "scatter_0 = matplotlib.pyplot.scatter(x1[:start_type_one], x2[:start_type_one],\n",
    "                                      c=\"red\", marker=\"o\", label=iris.target_names[0])\n",
    "scatter_1 = matplotlib.pyplot.scatter(x1[start_type_one:start_type_two], x2[start_type_one:start_type_two],\n",
    "                                      c=\"blue\", marker=\"^\", label=iris.target_names[1])\n",
    "scatter_2 = matplotlib.pyplot.scatter(x1[start_type_two:], x2[start_type_two:],\n",
    "                                      c=\"yellow\", marker=\"*\", label=iris.target_names[2])\n",
    "\n",
    "# add a legend to explain which points are which\n",
    "matplotlib.pyplot.legend(handles=[scatter_0, scatter_1, scatter_2])\n",
    "\n",
    "# show the graph\n",
    "matplotlib.pyplot.show()"
   ]
  },
  {
   "cell_type": "markdown",
   "metadata": {},
   "source": [
    "## Model Training\n",
    "\n",
    "Next, we want to fit our decision tree model to the iris data we're using."
   ]
  },
  {
   "cell_type": "code",
   "execution_count": 5,
   "metadata": {},
   "outputs": [
    {
     "data": {
      "text/plain": [
       "DecisionTreeClassifier(class_weight=None, criterion='gini', max_depth=None,\n",
       "            max_features=None, max_leaf_nodes=None,\n",
       "            min_impurity_decrease=0.0, min_impurity_split=None,\n",
       "            min_samples_leaf=1, min_samples_split=2,\n",
       "            min_weight_fraction_leaf=0.0, presort=False, random_state=None,\n",
       "            splitter='best')"
      ]
     },
     "execution_count": 5,
     "metadata": {},
     "output_type": "execute_result"
    }
   ],
   "source": [
    "# Train the model\n",
    "model = tree.DecisionTreeClassifier()\n",
    "model.fit(iris.data, iris.target)"
   ]
  },
  {
   "cell_type": "markdown",
   "metadata": {},
   "source": [
    "## Visualization of Model Output\n",
    "\n",
    "Using graphviz and pydot, we can create a flowchart that shows the model decisions. The flowchart will be printed to a PDF on your desktop."
   ]
  },
  {
   "cell_type": "code",
   "execution_count": 6,
   "metadata": {},
   "outputs": [],
   "source": [
    "dot_data = StringIO()\n",
    "tree.export_graphviz(model, out_file=dot_data, feature_names=iris.feature_names, class_names=iris.target_names,\n",
    "                     filled=True, rounded=True, special_characters=True)\n",
    "graph = pydot.graph_from_dot_data(dot_data.getvalue())[0]\n",
    "graph.write_pdf(os.path.expanduser(\"~/Desktop/iris_decision_tree.pdf\"))"
   ]
  },
  {
   "cell_type": "markdown",
   "metadata": {},
   "source": [
    "# Exercise Option (Standard Difficulty)\n",
    "\n",
    "Answer the following questions. You may find it helpful to compare the PDF output to the graph above (remember you can change which columns the graph is displaying), to see the boundaries the decision tree is finding.\n",
    "\n",
    "1. According to the PDF, what feature values would tell you with high probability that you were looking at a setosa iris?\n",
    "1. According to the PDF, which features would you look at to tell a virginica from a versicolor?\n",
    "1. What is the value array in the PDF showing?\n",
    "1. Try using subsets of the input data (look at the iris_inputs variable in [LogisticRegressionIris](https://nbviewer.jupyter.org/github/jennselby/MachineLearningCourseNotes/blob/master/assets/ipynb/LogisticRegressionIris.ipynb) to see how to use only some of the columns in the model). How does this change the decision tree?"
   ]
  },
  {
   "cell_type": "markdown",
   "metadata": {},
   "source": [
    "# Exercise Option (Advanced)\n",
    "\n",
    "Try fitting a Random Forest model to the iris data. See [this example](http://scikit-learn.org/stable/modules/ensemble.html#forest) to help you get started.\n",
    "\n",
    "How does the performance and output of Random Forest compare to the single Decision Tree? Since you can't get the graphical representation of the Random Forest model the way we did for the single Decision Tree, you'll have to think of a different way to understand what the model is doing. Think about how we can [validate the performance of our classifier models](https://jennselby.github.io/MachineLearningCourseNotes/#classification-validation)."
   ]
  },
  {
   "cell_type": "code",
   "execution_count": 41,
   "metadata": {},
   "outputs": [
    {
     "name": "stdout",
     "output_type": "stream",
     "text": [
      "[1 0 1 0 0 1 1 0 1 0 0 0 0 0 1 1 1 1 0 1 0 1 0 0 1 0 1 1 1 1 1 0 0 0 0 1 0\n",
      " 0 1 0 1 1 1 0 1 0 1 0 1]\n",
      "[2 2 2 2 2 2 2 2 2 2 2 2 2 2 2 2 2 2 2 2 2 2 2 2 2 2 2 2 2 2 2 2 2 2 2 2 2\n",
      " 2 2 2 2 2 2 2 2 2 2 2 2]\n",
      "0.4897959183673469\n",
      "\n"
     ]
    }
   ],
   "source": [
    "model2 = RandomForestClassifier(n_estimators=1000)\n",
    "model2.fit(iris.data[0:100], iris.target[0:100])\n",
    "#iristest= numpy.random.shuffle(iris.data)\n",
    "#model2.predi\n",
    "\n",
    "def test (bound1, bound2):\n",
    "    output = model2.predict(iris.data[bound1:bound2])\n",
    "    print(output)\n",
    "    print(iris.target[bound1:bound2])\n",
    "    successes = 0\n",
    "    i = 0\n",
    "    while (i < (bound2 - bound1)):\n",
    "        if output[i] == iris.target[i]:\n",
    "            successes += 1\n",
    "        i += 1\n",
    "    return successes/(bound2 - bound1)\n",
    "\n",
    "thing = test(101,150)\n",
    "print(thing)"
   ]
  },
  {
   "cell_type": "code",
   "execution_count": 5,
   "metadata": {},
   "outputs": [
    {
     "data": {
      "text/plain": [
       "150"
      ]
     },
     "execution_count": 5,
     "metadata": {},
     "output_type": "execute_result"
    }
   ],
   "source": [
    "#iris\n",
    "len(iris.target)\n"
   ]
  },
  {
   "cell_type": "code",
   "execution_count": 15,
   "metadata": {},
   "outputs": [
    {
     "name": "stdout",
     "output_type": "stream",
     "text": [
      "0.9481481481481482\n"
     ]
    }
   ],
   "source": [
    "from sklearn.model_selection import train_test_split\n",
    "data_train, data_test, target_train, target_test = train_test_split(iris.data, iris.target, test_size=0.9, random_state=42)\n",
    "#print(data_train, data_test, target_train, target_test)\n",
    "\n",
    "\n",
    "\n",
    "model3 = RandomForestClassifier(n_estimators=100)\n",
    "model3.fit(data_train, target_train)\n",
    "\n",
    "def test (data, target):\n",
    "    output = model3.predict(data)\n",
    "    successes = 0\n",
    "    i = 0\n",
    "    while (i < len(data)):\n",
    "        if output[i] == target[i]:\n",
    "            successes += 1\n",
    "        i += 1\n",
    "    return successes/len(data)\n",
    "\n",
    "thing = test(data_test, target_test)\n",
    "print(thing)"
   ]
  },
  {
   "cell_type": "markdown",
   "metadata": {},
   "source": [
    "Even with 10% of the data, they're similar enough that it works out fairly well."
   ]
  },
  {
   "cell_type": "code",
   "execution_count": null,
   "metadata": {},
   "outputs": [],
   "source": []
  },
  {
   "cell_type": "code",
   "execution_count": null,
   "metadata": {},
   "outputs": [],
   "source": []
  },
  {
   "cell_type": "code",
   "execution_count": null,
   "metadata": {},
   "outputs": [],
   "source": []
  },
  {
   "cell_type": "code",
   "execution_count": null,
   "metadata": {},
   "outputs": [],
   "source": []
  }
 ],
 "metadata": {
  "kernelspec": {
   "display_name": "Python 3",
   "language": "python",
   "name": "python3"
  },
  "language_info": {
   "codemirror_mode": {
    "name": "ipython",
    "version": 3
   },
   "file_extension": ".py",
   "mimetype": "text/x-python",
   "name": "python",
   "nbconvert_exporter": "python",
   "pygments_lexer": "ipython3",
   "version": "3.7.0"
  }
 },
 "nbformat": 4,
 "nbformat_minor": 2
}
